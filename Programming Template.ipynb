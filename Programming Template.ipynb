{
 "cells": [
  {
   "cell_type": "markdown",
   "id": "d874dc49",
   "metadata": {},
   "source": [
    "# PHY256 Programming template\n",
    "\n",
    "This is meant to be a repository of many functions used in PHY256 that may come handy in final when you don't have much time to write your own functions."
   ]
  },
  {
   "cell_type": "code",
   "execution_count": 14,
   "id": "5a378759",
   "metadata": {},
   "outputs": [],
   "source": [
    "###########################################################################\n",
    "# IMPORT STATEMENTS (ADD MORE AS NEEDED)\n",
    "###########################################################################\n",
    "\n",
    "import numpy as np\n",
    "import matplotlib.pyplot as plt\n",
    "import scipy.linalg as lg\n",
    "from typing import Optional, Callable\n",
    "\n",
    "from matplotlib import animation\n",
    "from IPython.display import HTML\n",
    "\n",
    "from random import randint\n",
    "from math import isclose"
   ]
  },
  {
   "cell_type": "code",
   "execution_count": 3,
   "id": "b3c86531",
   "metadata": {},
   "outputs": [],
   "source": [
    "###########################################################################\n",
    "# TYPES OF POTENTIALS (TODO)\n",
    "###########################################################################\n",
    "\n",
    "\n",
    "def harmonic_oscillator(k: float, x: np.ndarray) -> np.ndarray:\n",
    "    \"\"\"Return the potential for harmonic oscillator, with spring constant k\"\"\"\n",
    "    return 0.5 * k * (x ** 2)\n",
    "    \n",
    "\n",
    "def step_potential() -> np.ndarray:\n",
    "    \"\"\"Return the step-wise defined potential, similar to the one from the midterm\"\"\"\n",
    "    ...\n",
    "\n",
    "\n",
    "def vee_shape_potential(x_0: float, m: float, x: np.ndarray) -> np.ndarray:\n",
    "    \"\"\"Return the vee-shaped potential with slope m, centered at V(x_0) = 0\n",
    "    \n",
    "    Preconditions:\n",
    "        - any(isclose(x_0, x_1) for x_1 in x)\n",
    "    \"\"\"\n",
    "    x0 = [i - x_0 for i in x if i <= x_0]\n",
    "    x1 = [i - x_0 for i in x if i > x_0]\n",
    "    \n",
    "    v0 = -m * x0\n",
    "    v1 = m * x1\n",
    "    \n",
    "    potential = []\n",
    "    potential.extend(v0)\n",
    "    potential.extend(v1)\n",
    "    \n",
    "    return potential"
   ]
  },
  {
   "cell_type": "code",
   "execution_count": null,
   "id": "d272fba9",
   "metadata": {},
   "outputs": [],
   "source": [
    "##########################################################################\n",
    "# TEST POTENTIAL ENERGY FUNCTIONS\n",
    "##########################################################################\n",
    "\n",
    "\n",
    "def test_harmonic_potential() -> None:\n",
    "    ..."
   ]
  },
  {
   "cell_type": "code",
   "execution_count": 15,
   "id": "d3407b5e",
   "metadata": {},
   "outputs": [],
   "source": [
    "###########################################################################\n",
    "# SOLVING FOR EIGEN-ENERGIES (TODO)\n",
    "###########################################################################\n",
    "\n",
    "\n",
    "def solver(dx: float, potential: np.ndarray, grid_size: int) -> tuple[np.ndarray, np.ndarray]:\n",
    "    \"\"\"Solve for the eigen-energies and the eigenmodes of the given system.\"\"\"\n",
    "\n",
    "    potential_matrix = np.matrix(np.diag(potential))\n",
    "    kinetic_matrix = -0.5 * np.matrix(\n",
    "        np.eye(grid_size, k=-1) - 2 * np.eye(grid_size) + np.eye(grid_size, k=+1)) / (dx ** 2)\n",
    "\n",
    "    eigen_energies, eigvecs = lg.eigh(kinetic_matrix + potential_matrix)\n",
    "\n",
    "    eigenmodes = eigvecs.T\n",
    "\n",
    "    return eigen_energies, eigenmodes"
   ]
  },
  {
   "cell_type": "code",
   "execution_count": 5,
   "id": "baadabb7",
   "metadata": {},
   "outputs": [],
   "source": [
    "###########################################################################\n",
    "# FUNCTIONS TO DEAL WITH ARBITRARY WFNS\n",
    "###########################################################################\n",
    "\n",
    "\n",
    "def normalize(func: np.ndarray, dx: float) -> np.ndarray:\n",
    "    \"\"\"Normalize the given function over the interval 0 through 2pi\"\"\"\n",
    "    integral = np.trapz(np.abs(func) ** 2, dx=dx)\n",
    "    root = np.sqrt(integral)\n",
    "    return func / root\n",
    "\n",
    "\n",
    "def evolve(func: np.ndarray, eigenmodes: np.ndarray, eigen_energies: np.ndarray, t: float) -> float:\n",
    "    \"\"\"Function for time evolution\"\"\"\n",
    "    N = len(eigenmodes)\n",
    "    output = 0\n",
    "    for i in range(N):\n",
    "        output += np.trapz(eigenmodes(i) * func, dx=d_theta) \\\n",
    "                  * eigenmodes(i) * np.exp(-1j * eigen_energies(i) * t)\n",
    "    return output"
   ]
  },
  {
   "cell_type": "code",
   "execution_count": 7,
   "id": "b51a264e",
   "metadata": {},
   "outputs": [],
   "source": [
    "###########################################################################\n",
    "# ANIMATION FUNCTIONS\n",
    "###########################################################################\n",
    "\n",
    "\n",
    "# def animate(i: float, line, wfn: np.ndarray) -> None:\n",
    "#     \"\"\"Animating the evolution of wfn after time t\"\"\"\n",
    "#     wt = evolve(wfn, i/15)\n",
    "#     line.set_data(theta, np.abs(wt) ** 2)\n",
    "\n",
    "\n",
    "# def animation():\n",
    "#     ...\n",
    "\n",
    "\n",
    "# x = np.linspace(0,10,int(1e4))\n",
    "# W = wavefunction(x,0)\n",
    "    \n",
    "# fig = plt.figure()\n",
    "# line, = plt.plot(x,np.abs(W)**2)\n",
    "# plt.xlabel(\"x\")\n",
    "# plt.ylabel(\"probability density\")\n",
    "\n",
    "# def animate(ti):\n",
    "#     line.set_data(x,np.abs( wavefunction(x,ti/10) )**2)\n",
    "\n",
    "# ani = animation.FuncAnimation(fig, animate, frames=50)\n",
    "# HTML(ani.to_jshtml())"
   ]
  },
  {
   "cell_type": "code",
   "execution_count": 8,
   "id": "af3b9db2",
   "metadata": {},
   "outputs": [],
   "source": [
    "###########################################################################\n",
    "# STATISTICS FUNCTIONS\n",
    "###########################################################################\n",
    "\n",
    "\n",
    "def calculate_avg_std(func: np.ndarray, x: np.ndarray, dx: float) \\\n",
    "        -> tuple[float, float, complex, float]:\n",
    "    \"\"\"Return the average position, the standard deviation in position, and the average\n",
    "    momentum and the standard deviation in momentum\"\"\"\n",
    "    wfn = normalize(func, dx)\n",
    "\n",
    "    avg_x = np.trapz(wfn.conjugate() * x * wfn, dx=dx)\n",
    "    std_x = np.abs(np.sqrt(np.trapz(wfn.conjugate() * (x ** 2) * wfn, dx=dx) - (avg_x ** 2)))\n",
    "\n",
    "    #     print(f\"<x> = {avg_x:.4f}\")\n",
    "    #     print(f\"Delta x = {std_x:.4f}\")\n",
    "\n",
    "    d_wfn = np.diff(wfn) / dx\n",
    "    d2_wfn = np.diff(wfn, 2) / (dx ** 2)\n",
    "\n",
    "    avg_p = -1j * np.trapz(wfn.conjugate()[:-1] * d_wfn, dx=dx)\n",
    "    std_p = np.abs(np.sqrt(-np.trapz(wfn.conjugate()[:-2] * d2_wfn, dx=dx) - (avg_p ** 2)))\n",
    "\n",
    "    #     print(f\"<p> = {avg_p:.4f}\")\n",
    "    #     print(f\"Delta p = {std_p:.4f}\")\n",
    "\n",
    "    return avg_x, std_x, avg_p, std_p\n",
    "\n",
    "\n",
    "def expectation_val(func: Callable, wfn: np.ndarray, x: np.ndarray, dx: float) \\\n",
    "        -> tuple[float, float]:\n",
    "    \"\"\"Return the expectation value and the standard deviation of the func operator\"\"\"\n",
    "    wfn = normalize(wfn, dx)\n",
    "\n",
    "    out = normalize(func(x), dx)\n",
    "    out_2 = normalize(func(func(x)), dx)\n",
    "\n",
    "    avg_func = np.trapz(wfn.conjugate() * out, dx=dx)\n",
    "    std_func = float(np.abs(np.sqrt(np.trapz(wfn.conjugate()[:-2] * out_2, dx=dx) \n",
    "                                    - (avg_func ** 2))))\n",
    "\n",
    "    return avg_func, std_func"
   ]
  },
  {
   "cell_type": "code",
   "execution_count": 9,
   "id": "35242b4f",
   "metadata": {},
   "outputs": [],
   "source": [
    "###########################################################################\n",
    "# TESTING FUNCTIONS AND SANITY CHECKS\n",
    "###########################################################################\n",
    "\n",
    "\n",
    "def test_func(func: Optional[np.ndarray] = None) -> np.ndarray:\n",
    "    \"\"\"Return the (normalized) test function described in Question 1d of assignment\"\"\"\n",
    "    if func is None:\n",
    "        w0 = np.exp(1j * theta) + np.exp(3j * theta)\n",
    "        w0 = normalize(w0, dx=d_theta)\n",
    "        return w0\n",
    "    else:\n",
    "        return func\n",
    "\n",
    "\n",
    "def test_normalize() -> None:\n",
    "    \"\"\"Sanity check. Check whether the normalize function works\"\"\"\n",
    "    func = []\n",
    "    for _ in range(N):\n",
    "        func.append(randint(-100, 100))\n",
    "    func = normalize(func, dx=d_theta)\n",
    "    integral = np.trapz(np.abs(func) ** 2, dx=d_theta)\n",
    "    assert isclose(integral, 1, rel_tol=0.01)\n",
    "\n",
    "\n",
    "def test_evolve_normalize() -> None:\n",
    "    \"\"\"Sanity check. Check whether the evolve function retains normalization.\"\"\"\n",
    "    func = []\n",
    "    for _ in range(N):\n",
    "        func.append(randint(-100, 100))\n",
    "    func = normalize(func, dx=d_theta)\n",
    "    time = randint(0, 10000)\n",
    "    integral = np.trapz(np.abs(evolve(func, time)) ** 2, dx=d_theta)\n",
    "\n",
    "    assert isclose(integral, 1, rel_tol=0.01)"
   ]
  },
  {
   "cell_type": "code",
   "execution_count": null,
   "id": "6ec8c8d3",
   "metadata": {},
   "outputs": [],
   "source": []
  },
  {
   "cell_type": "code",
   "execution_count": null,
   "id": "90f3097b",
   "metadata": {},
   "outputs": [],
   "source": []
  },
  {
   "cell_type": "code",
   "execution_count": 12,
   "id": "e916e93a",
   "metadata": {},
   "outputs": [
    {
     "data": {
      "image/png": "[encoded data removed]",
      "text/plain": [
       "<Figure size 576x432 with 1 Axes>"
      ]
     },
     "metadata": {
      "needs_background": "light"
     },
     "output_type": "display_data"
    }
   ],
   "source": [
    "N = 1000       # number of discrete points on the spatial grid\n",
    "x = np.linspace(-30,30,N)\n",
    "dx = x[1]-x[0]\n",
    "\n",
    "def V(x):\n",
    "    return (np.arctan((x-2)/0.1)/(np.pi/2) - np.arctan((x+2)/0.1)/(np.pi/2))\n",
    "\n",
    "potential = V(x)\n",
    "\n",
    "plt.figure(figsize=(8,6))\n",
    "plt.plot(x,V(x))\n",
    "plt.xlim(-10,10)\n",
    "plt.xlabel(\"x\")\n",
    "plt.ylabel(\"potential energy\")\n",
    "plt.show()"
   ]
  },
  {
   "cell_type": "code",
   "execution_count": 16,
   "id": "678c7dd9",
   "metadata": {},
   "outputs": [],
   "source": [
    "eigen_energies, eigenmodes = solver(dx, potential, N)"
   ]
  },
  {
   "cell_type": "code",
   "execution_count": 17,
   "id": "a6a3e26a",
   "metadata": {},
   "outputs": [
    {
     "data": {
      "image/png": "[encoded data removed]",
      "text/plain": [
       "<Figure size 576x576 with 1 Axes>"
      ]
     },
     "metadata": {
      "needs_background": "light"
     },
     "output_type": "display_data"
    }
   ],
   "source": [
    "plt.figure(figsize=(8,8))\n",
    "plt.plot(x,V(x))\n",
    "plt.xlim(-10,10)\n",
    "plt.xlabel(\"x\")\n",
    "plt.ylabel(\"energy\")\n",
    "for i in range(10):     \n",
    "    plt.plot(x,eigen_energies[i]*np.ones(len(x)),color=f\"C{i+1}\")\n",
    "plt.show()"
   ]
  },
  {
   "cell_type": "code",
   "execution_count": 19,
   "id": "6801be03",
   "metadata": {},
   "outputs": [
    {
     "data": {
      "text/plain": [
       "True"
      ]
     },
     "execution_count": 19,
     "metadata": {},
     "output_type": "execute_result"
    }
   ],
   "source": [
    "len(x) == len(harmonic_oscillator(1, x))"
   ]
  },
  {
   "cell_type": "code",
   "execution_count": null,
   "id": "4562b01e",
   "metadata": {},
   "outputs": [],
   "source": []
  },
  {
   "cell_type": "code",
   "execution_count": null,
   "id": "cd5df3bf",
   "metadata": {},
   "outputs": [],
   "source": []
  },
  {
   "cell_type": "code",
   "execution_count": null,
   "id": "434e7c3f",
   "metadata": {},
   "outputs": [],
   "source": []
  },
  {
   "cell_type": "code",
   "execution_count": null,
   "id": "ae0b715b",
   "metadata": {},
   "outputs": [],
   "source": []
  },
  {
   "cell_type": "code",
   "execution_count": null,
   "id": "3a15839e",
   "metadata": {},
   "outputs": [],
   "source": []
  },
  {
   "cell_type": "code",
   "execution_count": null,
   "id": "960d215c",
   "metadata": {},
   "outputs": [],
   "source": []
  },
  {
   "cell_type": "code",
   "execution_count": null,
   "id": "87e7e0ac",
   "metadata": {},
   "outputs": [],
   "source": []
  },
  {
   "cell_type": "code",
   "execution_count": null,
   "id": "ed9cc829",
   "metadata": {},
   "outputs": [],
   "source": []
  },
  {
   "cell_type": "code",
   "execution_count": null,
   "id": "eaf1941b",
   "metadata": {},
   "outputs": [],
   "source": []
  },
  {
   "cell_type": "code",
   "execution_count": null,
   "id": "ba234e20",
   "metadata": {},
   "outputs": [],
   "source": []
  },
  {
   "cell_type": "code",
   "execution_count": null,
   "id": "ac98c3ca",
   "metadata": {},
   "outputs": [],
   "source": []
  }
 ],
 "metadata": {
  "kernelspec": {
   "display_name": "Python 3",
   "language": "python",
   "name": "python3"
  },
  "language_info": {
   "codemirror_mode": {
    "name": "ipython",
    "version": 3
   },
   "file_extension": ".py",
   "mimetype": "text/x-python",
   "name": "python",
   "nbconvert_exporter": "python",
   "pygments_lexer": "ipython3",
   "version": "3.9.1"
  }
 },
 "nbformat": 4,
 "nbformat_minor": 5
}
