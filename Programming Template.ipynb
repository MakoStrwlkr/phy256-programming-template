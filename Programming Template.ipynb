{
 "cells": [
  {
   "cell_type": "markdown",
   "id": "990c8efe",
   "metadata": {},
   "source": [
    "# PHY256 Programming template\n",
    "\n",
    "This is meant to be a repository of many functions used in PHY256 that may come handy in final when you don't have much time to write your own functions."
   ]
  },
  {
   "cell_type": "code",
   "execution_count": 1,
   "id": "1b9d74af",
   "metadata": {},
   "outputs": [],
   "source": [
    "###########################################################################\n",
    "# IMPORT STATEMENTS (ADD MORE AS NEEDED)\n",
    "###########################################################################\n",
    "\n",
    "import numpy as np\n",
    "import matplotlib.pyplot as plt\n",
    "from typing import Optional\n",
    "\n",
    "from matplotlib import animation\n",
    "from IPython.display import HTML\n",
    "\n",
    "from random import randint\n",
    "from math import isclose"
   ]
  },
  {
   "cell_type": "code",
   "execution_count": null,
   "id": "9171975f",
   "metadata": {},
   "outputs": [],
   "source": [
    "###########################################################################\n",
    "# TYPES OF POTENTIALS (TODO)\n",
    "###########################################################################\n",
    "\n",
    "\n",
    "def harmonic_oscillator() -> np.ndarray:\n",
    "    \"\"\"Return the potential for harmonic oscillator\"\"\"\n",
    "    ...\n",
    "    \n",
    "\n",
    "def step_potential() -> np.ndarray:\n",
    "    \"\"\"Return the step-wise defined potential, similar to the one from the midterm\"\"\"\n",
    "    ..."
   ]
  },
  {
   "cell_type": "code",
   "execution_count": null,
   "id": "a7079746",
   "metadata": {},
   "outputs": [],
   "source": [
    "###########################################################################\n",
    "# SOLVING FOR EIGEN-ENERGIES (TODO)\n",
    "###########################################################################"
   ]
  },
  {
   "cell_type": "code",
   "execution_count": null,
   "id": "f8c835b2",
   "metadata": {},
   "outputs": [],
   "source": [
    "###########################################################################\n",
    "# FUNCTIONS TO DEAL WITH ARBITRARY WFNS\n",
    "###########################################################################"
   ]
  },
  {
   "cell_type": "code",
   "execution_count": null,
   "id": "43777a7a",
   "metadata": {},
   "outputs": [],
   "source": [
    "###########################################################################\n",
    "# ANIMATION FUNCTIONS\n",
    "###########################################################################"
   ]
  },
  {
   "cell_type": "code",
   "execution_count": null,
   "id": "7d9dd2d6",
   "metadata": {},
   "outputs": [],
   "source": [
    "###########################################################################\n",
    "# STATISTICS FUNCTIONS\n",
    "###########################################################################"
   ]
  },
  {
   "cell_type": "code",
   "execution_count": null,
   "id": "4d26fc53",
   "metadata": {},
   "outputs": [],
   "source": []
  },
  {
   "cell_type": "code",
   "execution_count": null,
   "id": "2e82752c",
   "metadata": {},
   "outputs": [],
   "source": []
  },
  {
   "cell_type": "code",
   "execution_count": null,
   "id": "f6f24b33",
   "metadata": {},
   "outputs": [],
   "source": []
  },
  {
   "cell_type": "code",
   "execution_count": null,
   "id": "bdef64a1",
   "metadata": {},
   "outputs": [],
   "source": []
  },
  {
   "cell_type": "code",
   "execution_count": null,
   "id": "de993adb",
   "metadata": {},
   "outputs": [],
   "source": []
  },
  {
   "cell_type": "code",
   "execution_count": null,
   "id": "c43408b9",
   "metadata": {},
   "outputs": [],
   "source": []
  },
  {
   "cell_type": "code",
   "execution_count": null,
   "id": "e85375bf",
   "metadata": {},
   "outputs": [],
   "source": []
  },
  {
   "cell_type": "code",
   "execution_count": null,
   "id": "81b8d579",
   "metadata": {},
   "outputs": [],
   "source": []
  },
  {
   "cell_type": "code",
   "execution_count": null,
   "id": "5f3c552c",
   "metadata": {},
   "outputs": [],
   "source": []
  },
  {
   "cell_type": "code",
   "execution_count": null,
   "id": "93d1d9a4",
   "metadata": {},
   "outputs": [],
   "source": []
  },
  {
   "cell_type": "code",
   "execution_count": null,
   "id": "83e64459",
   "metadata": {},
   "outputs": [],
   "source": []
  },
  {
   "cell_type": "code",
   "execution_count": null,
   "id": "19f8f756",
   "metadata": {},
   "outputs": [],
   "source": []
  },
  {
   "cell_type": "code",
   "execution_count": null,
   "id": "4d48f6f8",
   "metadata": {},
   "outputs": [],
   "source": []
  },
  {
   "cell_type": "code",
   "execution_count": null,
   "id": "1b670c1a",
   "metadata": {},
   "outputs": [],
   "source": []
  },
  {
   "cell_type": "code",
   "execution_count": null,
   "id": "6e798793",
   "metadata": {},
   "outputs": [],
   "source": []
  },
  {
   "cell_type": "code",
   "execution_count": null,
   "id": "a69fcec2",
   "metadata": {},
   "outputs": [],
   "source": []
  },
  {
   "cell_type": "code",
   "execution_count": null,
   "id": "37b79986",
   "metadata": {},
   "outputs": [],
   "source": []
  }
 ],
 "metadata": {
  "kernelspec": {
   "display_name": "Python 3",
   "language": "python",
   "name": "python3"
  },
  "language_info": {
   "codemirror_mode": {
    "name": "ipython",
    "version": 3
   },
   "file_extension": ".py",
   "mimetype": "text/x-python",
   "name": "python",
   "nbconvert_exporter": "python",
   "pygments_lexer": "ipython3",
   "version": "3.9.1"
  }
 },
 "nbformat": 4,
 "nbformat_minor": 5
}
